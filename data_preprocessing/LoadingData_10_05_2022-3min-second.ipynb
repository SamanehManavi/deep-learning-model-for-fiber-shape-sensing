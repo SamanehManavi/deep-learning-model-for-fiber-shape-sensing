{
 "cells": [
  {
   "cell_type": "code",
   "execution_count": null,
   "metadata": {},
   "outputs": [],
   "source": [
    "import os\n",
    "import time\n",
    "import tensorflow as tf\n",
    "import setproctitle as SP\n",
    "import pandas as pd\n",
    "import numpy as np\n",
    "import datetime\n",
    "import csv\n",
    "from pandas import DataFrame\n",
    "pd.options.display.max_rows = None\n",
    "pd.options.display.max_columns = None\n",
    "import matplotlib.pyplot as plt\n",
    "import scipy.io\n",
    "from sklearn.model_selection import train_test_split\n",
    "from numpy import savetxt\n",
    "%matplotlib notebook\n",
    "\n",
    "import os\n",
    "import time\n",
    "import tensorflow as tf\n",
    "import setproctitle as SP\n",
    "import pandas as pd\n",
    "import numpy as np\n",
    "import datetime\n",
    "import csv\n",
    "from pandas import DataFrame\n",
    "pd.options.display.max_rows = None\n",
    "pd.options.display.max_columns = None\n",
    "import matplotlib.pyplot as plt\n",
    "import scipy.io\n",
    "from sklearn.model_selection import train_test_split\n",
    "from numpy import savetxt\n",
    "    \n",
    "import mpl_toolkits.mplot3d\n",
    "\n",
    "# Functions from @Mateen Ulhaq and @karlo\n",
    "def set_axes_equal(ax: plt.Axes):\n",
    "    \"\"\"Set 3D plot axes to equal scale.\n",
    "\n",
    "    Make axes of 3D plot have equal scale so that spheres appear as\n",
    "    spheres and cubes as cubes.  Required since `ax.axis('equal')`\n",
    "    and `ax.set_aspect('equal')` don't work on 3D.\n",
    "    \"\"\"\n",
    "    limits = np.array([\n",
    "        ax.get_xlim3d(),\n",
    "        ax.get_ylim3d(),\n",
    "        ax.get_zlim3d(),\n",
    "    ])\n",
    "    origin = np.mean(limits, axis=1)\n",
    "    radius = 0.5 * np.max(np.abs(limits[:, 1] - limits[:, 0]))\n",
    "    _set_axes_radius(ax, origin, radius)\n",
    "\n",
    "def _set_axes_radius(ax, origin, radius):\n",
    "    x, y, z = origin\n",
    "    ax.set_xlim3d([x - radius, x + radius])\n",
    "    ax.set_ylim3d([y - radius, y + radius])\n",
    "    ax.set_zlim3d([z - radius, z + radius])\n"
   ]
  },
  {
   "cell_type": "code",
   "execution_count": null,
   "metadata": {},
   "outputs": [],
   "source": [
    "# tf.config.list_physical_devices()\n",
    "os.environ[\"CUDA_DEVICE_ORDER\"]=\"PCI_BUS_ID\"   # see issue #152\n",
    "os.environ[\"CUDA_VISIBLE_DEVICES\"]=\"0\"\n",
    "gpu_options = tf.compat.v1.GPUOptions(per_process_gpu_memory_fraction=0.1)\n",
    "\n",
    "sess = tf.compat.v1.Session(config=tf.compat.v1.ConfigProto(gpu_options=gpu_options))\n"
   ]
  },
  {
   "cell_type": "code",
   "execution_count": null,
   "metadata": {
    "scrolled": true
   },
   "outputs": [],
   "source": [
    "# os.chdir(\"/tf/tf/NaturePaper\")\n",
    "os.chdir(\"/data/raw_data\")\n",
    "\n",
    "\n",
    "ScanTime='10-05-2022 15.56.10.800'\n",
    "CoordinateRaw = pd.read_csv('Coordinate_matched_'+ScanTime+'.csv')\n",
    "SpectraRaw = pd.read_csv('Spectrum_matched_'+ScanTime+'.csv')\n",
    "\n",
    "# print(type(CoordinateRaw))\n",
    "# print(CoordinateRaw.shape)\n",
    "# print(CoordinateRaw.iloc[0,42])\n",
    "# print(CoordinateRaw.iloc[0,:])\n",
    "\n",
    "print(type(SpectraRaw))\n",
    "print(SpectraRaw.shape)\n",
    "# print(SpectraRaw.iloc[0,42])\n",
    "# print(SpectraRaw.iloc[0,:])\n",
    "print(SpectraRaw.iloc[0:10,0])\n",
    "\n",
    "\n"
   ]
  },
  {
   "cell_type": "code",
   "execution_count": null,
   "metadata": {
    "scrolled": true
   },
   "outputs": [],
   "source": [
    "print(type(CoordinateRaw))\n",
    "print(CoordinateRaw.shape)\n",
    "print(CoordinateRaw.iloc[0,42])\n",
    "print(CoordinateRaw.iloc[0,:])"
   ]
  },
  {
   "cell_type": "code",
   "execution_count": null,
   "metadata": {},
   "outputs": [],
   "source": [
    "Spectra=SpectraRaw\n",
    "Coordinate=CoordinateRaw\n",
    "Spectra.iloc[:,0] =  pd.to_datetime(SpectraRaw.iloc[:,0], format='%Y-%m-%d %H:%M:%S.%f')\n",
    "Spectra=Spectra.set_index('timestamps')\n",
    "Coordinate.iloc[:,0] =  pd.to_datetime(CoordinateRaw.iloc[:,0], format='%Y-%m-%d %H:%M:%S.%f')\n",
    "Coordinate=Coordinate.set_index('QualTime')\n",
    "print(Spectra.shape)\n",
    "print(Coordinate.shape)\n",
    "Spectra = Spectra.iloc[:,0:191].astype('float64')\n",
    "Spectra.info()\n",
    "# print(Spectra.index)"
   ]
  },
  {
   "cell_type": "code",
   "execution_count": null,
   "metadata": {
    "scrolled": true
   },
   "outputs": [],
   "source": [
    "Time=Spectra.index\n",
    "i = len(Time)-1\n",
    "while i>=0:\n",
    "    if(Time[i]<=Time[i-2]+datetime.timedelta(milliseconds=25)):#24 50\n",
    "        print(i)\n",
    "        i=i-3\n",
    "    else:\n",
    "        print(\"Removed\", i)\n",
    "        Time=np.delete(Time,i)\n",
    "        Spectra=Spectra.drop(Spectra.index[i])\n",
    "        Coordinate=Coordinate.drop(Coordinate.index[i])\n",
    "        i=i-1\n",
    "\n",
    "print(Time.shape)\n",
    "print(Spectra.shape)\n",
    "print(Coordinate.shape)"
   ]
  },
  {
   "cell_type": "code",
   "execution_count": null,
   "metadata": {},
   "outputs": [],
   "source": [
    "k=2; # we remove this amount of rows for making the number of rows divisible\n",
    "print(Spectra.shape)\n",
    "print((len(Spectra)-k)/3)\n",
    "# len(SpectraNarrow.columns)\n",
    "# SpectraNarrow[0:len(SpectraNarrow)-2].shape"
   ]
  },
  {
   "cell_type": "code",
   "execution_count": null,
   "metadata": {},
   "outputs": [],
   "source": [
    "n_rows=(len(Spectra)-k)\n",
    "m_spectra=len(Spectra.columns)\n",
    "Spectraflat=Spectra[0:n_rows].values.flatten()\n",
    "print(Spectraflat.shape)\n",
    "SpectraReshaped = np.reshape(Spectraflat, (int(n_rows/3),3,m_spectra))\n",
    "print(SpectraReshaped.shape)\n",
    "SpectraFinal=np.transpose(SpectraReshaped,(0,2,1))\n",
    "SpectraFinal_flatten=SpectraFinal.flatten()\n",
    "print(SpectraFinal.shape)\n",
    "CoordinateFinal=Coordinate[0:n_rows].groupby(np.arange(n_rows)//3).mean()\n",
    "CoordinateFinal=DataFrame.to_numpy(CoordinateFinal)\n",
    "print (CoordinateFinal.shape)\n",
    "print(n_rows/3)"
   ]
  },
  {
   "cell_type": "code",
   "execution_count": null,
   "metadata": {},
   "outputs": [],
   "source": [
    "origin=[375.1,445,204.3]\n",
    "CoordinateFinal_1=(CoordinateFinal.reshape((-1,20,3))-origin).reshape((-1,60))\n",
    "\n",
    "[n_tr,m_tr]=CoordinateFinal_1.shape;\n",
    "\n",
    "y_val_1 = np.zeros((n_tr,60)) # Pre-allocate matrix\n",
    "\n",
    "for i in range(0,n_tr):\n",
    "    y_val_1[i,0:3]=CoordinateFinal_1[i,0:3]\n",
    "    for j in range(0,19):\n",
    "            y_val_1[i,3*j+3]=CoordinateFinal_1[i,3*j+3]-CoordinateFinal_1[i,3*j]\n",
    "            y_val_1[i,3*j+4]=CoordinateFinal_1[i,3*j+4]-CoordinateFinal_1[i,3*j+1]\n",
    "            y_val_1[i,3*j+5]=CoordinateFinal_1[i,3*j+5]-CoordinateFinal_1[i,3*j+2]"
   ]
  },
  {
   "cell_type": "code",
   "execution_count": null,
   "metadata": {
    "scrolled": true
   },
   "outputs": [],
   "source": [
    "from pickle import dump\n",
    "from pickle import load\n",
    "\n",
    "\n",
    "std1 = load(open('scaler.pkl', 'rb')) # load the scalar\n",
    "\n",
    "x_test_3min_std = std1.transform(SpectraFinal.reshape(-1, 1))\n",
    "x_test_3min = np.reshape(x_test_3min_std, (-1,190,3))\n",
    "\n",
    "i=1000\n",
    "plt.plot(x_test_3min[i,:,:])\n",
    "fig = plt.figure()\n",
    "\n",
    "ax= fig.gca(projection='3d')\n",
    "plt.ion()\n",
    "fig.show()\n",
    "xyz=y_val_1[i].reshape((20,3))\n",
    "\n",
    "ax.plot(xyz[:,0], xyz[:,1], xyz[:,2])\n",
    "\n",
    "ax.set_box_aspect([1,1,1])\n",
    "set_axes_equal(ax)"
   ]
  },
  {
   "cell_type": "code",
   "execution_count": null,
   "metadata": {},
   "outputs": [],
   "source": [
    "ScanTime='10-05-2022--15-56'\n",
    "savetxt('x_3min_Norm_'+ScanTime+'_second.csv', x_test_3min_std, delimiter=';')\n",
    "savetxt('y_3min_Norm_'+ScanTime+'_second.csv', CoordinateFinal_1, delimiter=';')\n",
    "avetxt('x_3min_NoPreProcessing_'+ScanTime+'_second.csv', SpectraFinal_flatten, delimiter=';')\n",
    "savetxt('y_3min_NoPreProcessing_'+ScanTime+'_second.csv', CoordinateFinal_1, delimiter=';')"
   ]
  }
 ],
 "metadata": {
  "kernelspec": {
   "display_name": "Python 3",
   "language": "python",
   "name": "python3"
  },
  "language_info": {
   "codemirror_mode": {
    "name": "ipython",
    "version": 3
   },
   "file_extension": ".py",
   "mimetype": "text/x-python",
   "name": "python",
   "nbconvert_exporter": "python",
   "pygments_lexer": "ipython3",
   "version": "3.6.9"
  }
 },
 "nbformat": 4,
 "nbformat_minor": 2
}
