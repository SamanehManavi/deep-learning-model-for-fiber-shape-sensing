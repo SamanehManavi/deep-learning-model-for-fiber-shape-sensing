{
 "cells": [
  {
   "cell_type": "code",
   "execution_count": 2,
   "metadata": {},
   "outputs": [
    {
     "name": "stderr",
     "output_type": "stream",
     "text": [
      "/usr/local/lib/python3.6/dist-packages/ipykernel_launcher.py:26: DeprecationWarning: `import kerastuner` is deprecated, please use `import keras_tuner`.\n"
     ]
    }
   ],
   "source": [
    "\n",
    "%matplotlib notebook\n",
    "import numpy as np\n",
    "import tensorflow_addons as tfa\n",
    "from tensorflow.python.client import device_lib\n",
    "import tensorflow as tf\n",
    "import os\n",
    "import time\n",
    "import setproctitle as SP\n",
    "import numpy as np\n",
    "from numpy import genfromtxt\n",
    "from sklearn.preprocessing import StandardScaler, MinMaxScaler, RobustScaler\n",
    "import matplotlib.pyplot as plt\n",
    "import math\n",
    "import pandas\n",
    "#import keras\n",
    "from tensorflow.keras.layers import Conv1D, Input, Flatten, Dense, BatchNormalization, ReLU, Dropout, MaxPooling1D\n",
    "from numpy import savetxt\n",
    "from tensorflow.keras.losses import Huber, MeanSquaredError\n",
    "from tensorflow.keras.callbacks import ModelCheckpoint, ReduceLROnPlateau, EarlyStopping\n",
    "from tensorflow import keras\n",
    "import tensorflow.keras.losses\n",
    "from numpy import linalg as LA\n",
    "import seaborn as sns\n",
    "from tensorflow.keras.regularizers import l2\n",
    "from tensorflow.keras import backend as K\n",
    "import kerastuner as kt\n",
    "from kerastuner.tuners import RandomSearch,Sklearn,BayesianOptimization,Hyperband\n",
    "from tensorflow.keras import layers, models\n",
    "from kerastuner.engine.hyperparameters import HyperParameters\n",
    "from hyperopt import hp\n",
    "import matplotlib\n",
    "from matplotlib import font_manager\n",
    "matplotlib.font_manager.findSystemFonts(fontpaths=None, fontext='ttf')\n",
    "font_dirs = [\"./Times_New_Roman\"]\n",
    "font_files = font_manager.findSystemFonts(fontpaths=font_dirs)\n",
    "custom_font_manager = font_manager.FontManager()\n",
    "for font_file in font_files:\n",
    "    font_manager.fontManager.addfont(font_file)\n",
    "# result = font_manager.fontManager.findfont('Times New Roman')\n",
    "# print(result)\n",
    "plt.rcParams[\"font.family\"] = \"Times New Roman\""
   ]
  },
  {
   "cell_type": "code",
   "execution_count": 9,
   "metadata": {},
   "outputs": [],
   "source": [
    "def HistoryPlot(path):\n",
    "    os.chdir(path)\n",
    "    Training=genfromtxt('Train_History.txt', delimiter=';')\n",
    "    Validation=genfromtxt('Val_History.txt', delimiter=';')\n",
    "    print([np.abs(Validation).argmin(), np.min(Validation)])\n",
    "    plt.figure(figsize=(6,3))\n",
    "    plt.plot(Training, color='#d8b365', linewidth=2)\n",
    "    plt.plot(Validation, color='#5ab4ac', linewidth=2)\n",
    "    plt.yscale('log',base=10)\n",
    "    plt.xlabel('Epoch')\n",
    "    plt.ylabel('SmoothL1 Loss')\n",
    "    # plt.ylim(top=1)\n",
    "    # plt.ylim(bottom=0)\n",
    "    plt.legend(['Training set', 'Validation set'], loc='center right')#upper right\n",
    "    plt.grid(b=True, which='both', axis='both',color='0.9')\n",
    "    plt.tight_layout()\n",
    "    \n",
    "    plt.savefig('History.svg',format='svg')\n",
    "    plt.savefig('History.pdf')"
   ]
  },
  {
   "cell_type": "code",
   "execution_count": null,
   "metadata": {},
   "outputs": [],
   "source": [
    "\n",
    "path=\"./results/model/RandomTest_1606\"\n",
    "HistoryPlot(path)\n"
   ]
  }
 ],
 "metadata": {
  "kernelspec": {
   "display_name": "Python 3",
   "language": "python",
   "name": "python3"
  },
  "language_info": {
   "codemirror_mode": {
    "name": "ipython",
    "version": 3
   },
   "file_extension": ".py",
   "mimetype": "text/x-python",
   "name": "python",
   "nbconvert_exporter": "python",
   "pygments_lexer": "ipython3",
   "version": "3.6.9"
  }
 },
 "nbformat": 4,
 "nbformat_minor": 2
}
